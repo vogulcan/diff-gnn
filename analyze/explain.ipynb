{
 "cells": [
  {
   "cell_type": "code",
   "execution_count": null,
   "id": "d2311637-ac59-47ae-a34d-4f055f0e0b62",
   "metadata": {},
   "outputs": [],
   "source": [
    "import sys\n",
    "\n",
    "sys.path.append(\"/home/carlos/Desktop/projects/diff-gnn\")\n",
    "import argparse\n",
    "\n",
    "import models\n",
    "import utils\n",
    "import train\n",
    "import explain\n",
    "import json\n",
    "\n",
    "import random\n",
    "\n",
    "import numpy as np\n",
    "import seaborn as sns\n",
    "import torch\n",
    "import networkx as nx\n",
    "import seaborn as sns\n",
    "import matplotlib.pyplot as plt\n",
    "\n",
    "from torch_geometric.utils import to_networkx\n",
    "from torch_geometric.data import Batch\n",
    "import torch_geometric.nn as pyg_nn\n",
    "\n",
    "from torch_geometric.explain import Explainer, GNNExplainer\n",
    "\n",
    "from skimage.filters import threshold_otsu, threshold_li"
   ]
  },
  {
   "cell_type": "code",
   "execution_count": null,
   "id": "fa8fd58c",
   "metadata": {},
   "outputs": [],
   "source": [
    "import importlib\n",
    "\n",
    "importlib.reload(utils)\n",
    "importlib.reload(train)\n",
    "importlib.reload(models)"
   ]
  },
  {
   "cell_type": "code",
   "execution_count": null,
   "id": "9696a76a",
   "metadata": {},
   "outputs": [],
   "source": [
    "# build model\n",
    "json_dict = json.load(\n",
    "    open(\n",
    "        \"/home/carlos/Desktop/projects/diff-gnn/checkpoints/tag_0.ckpt.args.json\",\n",
    "        \"r\",\n",
    "    )\n",
    ")\n",
    "args = argparse.Namespace(**json_dict)\n",
    "args.model_path = \"/home/carlos/Desktop/projects/diff-gnn/checkpoints/tag_0.ckpt\"\n",
    "args.test = True\n",
    "args.dropout = 0.0\n",
    "\n",
    "model = train.build_model(args)\n",
    "device = utils.get_device()\n",
    "# model = model.eval()"
   ]
  },
  {
   "cell_type": "code",
   "execution_count": null,
   "id": "1a96aa36",
   "metadata": {},
   "outputs": [],
   "source": [
    "npz = np.load(\n",
    "    \"/home/carlos/Desktop/projects/diff-gnn/datasets/HeLa_10000.t0-t12.chr1.obs_exp_qt.npz\"\n",
    ")\n",
    "graphs_a_0, idx = utils.constGraphList(npz[\"t0_q30-chr1_p\"], 31, 51, use_prcnt=1)\n",
    "graphs_b_12 = utils.constGraphList(\n",
    "    npz[\"t12_q30-chr1_p\"], 31, 51, maxNodesQ=41, idx_list=idx\n",
    ")"
   ]
  },
  {
   "cell_type": "code",
   "execution_count": null,
   "id": "29302701",
   "metadata": {},
   "outputs": [],
   "source": [
    "graphs_a_12 = utils.constGraphList(\n",
    "    npz[\"t12_q30-chr1_p\"], 31, 51, use_prcnt=0.2, idx_list=idx\n",
    ")\n",
    "graphs_b_0 = utils.constGraphList(\n",
    "    npz[\"t0_q30-chr1_p\"], 31, 51, maxNodesQ=41, idx_list=idx\n",
    ")"
   ]
  },
  {
   "cell_type": "code",
   "execution_count": null,
   "id": "117cf245",
   "metadata": {},
   "outputs": [],
   "source": [
    "def run_model_workflow(model, a, b):\n",
    "    a.to(utils.get_device())\n",
    "    b.to(utils.get_device())\n",
    "    a.x = a.x.type(torch.float32)\n",
    "    b.x = b.x.type(torch.float32)\n",
    "    emb_a = model.emb_model(a.x, a.edge_index, a.edge_attr, a.batch)\n",
    "    emb_b = model.emb_model(b.x, b.edge_index, b.edge_attr, b.batch)\n",
    "    pred = model(emb_a, emb_b)\n",
    "    pred = model.predict(pred)\n",
    "    pred = model.clf_model(pred.unsqueeze(1))\n",
    "    return pred.argmax(dim=-1), emb_a"
   ]
  },
  {
   "cell_type": "code",
   "execution_count": null,
   "id": "21be1e75",
   "metadata": {},
   "outputs": [],
   "source": [
    "zipped = list(zip(graphs_a_0, graphs_b_12, graphs_a_12, graphs_b_0))\n",
    "random.shuffle(zipped)\n",
    "graphs_a_0, graphs_b_12, graphs_a_12, graphs_b_0 = zip(*zipped)\n",
    "\n",
    "with torch.no_grad():\n",
    "    for a_0, b_12, a_12, b_0 in zip(graphs_a_0, graphs_b_12, graphs_a_12, graphs_b_0):\n",
    "        if b_12 != None and a_12 != None and b_0 != None:\n",
    "            pred_0_12, emb_a_0 = run_model_workflow(model, a_0, b_12)\n",
    "            pred_12_0, emb_a_12 = run_model_workflow(model, a_12, b_0)\n",
    "            if pred_0_12 == 1 and pred_12_0 == 1:\n",
    "                print(\"Found an example!\")\n",
    "                break"
   ]
  },
  {
   "cell_type": "code",
   "execution_count": null,
   "id": "9ab0e88e",
   "metadata": {},
   "outputs": [],
   "source": [
    "target = torch.tensor([1]).to(utils.get_device())\n",
    "\n",
    "emb_a = emb_a_0\n",
    "a = a_0\n",
    "b = b_12\n",
    "\n",
    "# emb_a = emb_a_12\n",
    "# a = a_12\n",
    "# b = b_0"
   ]
  },
  {
   "cell_type": "code",
   "execution_count": null,
   "id": "e820ba0e",
   "metadata": {},
   "outputs": [],
   "source": [
    "b.to(utils.get_device())\n",
    "\n",
    "alg = models.explainer(epochs=1000, lr=0.01)\n",
    "explainer = Explainer(\n",
    "    model=models.model2explainer(model, b, target_emb=emb_a),\n",
    "    algorithm=alg,\n",
    "    explanation_type=\"phenomenon\",\n",
    "    node_mask_type=\"attributes\",\n",
    "    edge_mask_type=\"object\",\n",
    "    model_config=dict(\n",
    "        mode=\"multiclass_classification\",\n",
    "        task_level=\"edge\",\n",
    "        return_type=\"raw\",\n",
    "    ),\n",
    ")\n",
    "\n",
    "explanation = explainer(b.x, b.edge_index, target=target)"
   ]
  },
  {
   "cell_type": "code",
   "execution_count": null,
   "id": "819be834",
   "metadata": {},
   "outputs": [],
   "source": [
    "explanation.visualize_feature_importance()"
   ]
  },
  {
   "cell_type": "code",
   "execution_count": null,
   "id": "c6c981c6",
   "metadata": {},
   "outputs": [],
   "source": [
    "edge_mask = explanation.get(\"edge_mask\").detach().cpu().numpy()\n",
    "sns.histplot(edge_mask.flatten())"
   ]
  },
  {
   "cell_type": "code",
   "execution_count": null,
   "id": "023eb18a",
   "metadata": {},
   "outputs": [],
   "source": [
    "losses = alg.losses\n",
    "plt.plot(losses)"
   ]
  },
  {
   "cell_type": "code",
   "execution_count": null,
   "id": "713b8fdb",
   "metadata": {},
   "outputs": [],
   "source": [
    "importlib.reload(explain)"
   ]
  },
  {
   "cell_type": "code",
   "execution_count": null,
   "id": "60bbcf63",
   "metadata": {},
   "outputs": [],
   "source": [
    "margin = 0.25\n",
    "anchor = 25\n",
    "ego_radius = 2\n",
    "maxT = 51\n",
    "perc = 75  "
   ]
  },
  {
   "cell_type": "code",
   "execution_count": null,
   "id": "e089f11b",
   "metadata": {},
   "outputs": [],
   "source": [
    "b = b.to(\"cpu\")\n",
    "b_sub = explain.apply_threshold(b, edge_mask, perc=perc)\n",
    "b_sub = utils.relabel_nodes(b_sub, maxT)\n",
    "b_sub = nx.ego_graph(b_sub, anchor, radius=ego_radius).copy()\n",
    "\n",
    "a_sub = to_networkx(a, to_undirected=True, node_attrs=[\"x\"], edge_attrs=[\"edge_attr\"])\n",
    "a_sub = utils.relabel_nodes(a_sub, 51)\n",
    "a_sub = a_sub.subgraph(b_sub.nodes).copy()\n",
    "\n",
    "fig, (ax1, ax2) = plt.subplots(2, figsize=(24, 16))\n",
    "\n",
    "explain.visualize_edges(b_sub, ax=ax1)\n",
    "explain.visualize_edges(a_sub, ax=ax2)"
   ]
  },
  {
   "cell_type": "code",
   "execution_count": null,
   "id": "bab1f0a5",
   "metadata": {},
   "outputs": [],
   "source": [
    "sub_nodes = explain.node_diff(a_sub, b_sub)\n",
    "sub_edges = explain.edge_comp(a_sub, b_sub)\n",
    "sub_nodes"
   ]
  },
  {
   "cell_type": "code",
   "execution_count": null,
   "id": "f54a26a0",
   "metadata": {},
   "outputs": [],
   "source": [
    "vals, res = explain.viz_attrs(sub_edges[1], margin=margin, anchor=anchor)\n",
    "for k, v in res.items():\n",
    "    print(k, v)\n",
    "sns.histplot(vals)"
   ]
  },
  {
   "cell_type": "code",
   "execution_count": null,
   "id": "3a75a9d3",
   "metadata": {},
   "outputs": [],
   "source": [
    "vals, res = explain.viz_attrs(sub_edges[2], margin=margin, anchor=anchor)\n",
    "for k, v in res.items():\n",
    "    print(k, v)\n",
    "sns.histplot(vals)"
   ]
  },
  {
   "cell_type": "code",
   "execution_count": null,
   "id": "a2b98c13",
   "metadata": {},
   "outputs": [],
   "source": [
    "# all to all\n",
    "G_a = to_networkx(a, to_undirected=False, node_attrs=[\"x\"], edge_attrs=[\"edge_attr\"])\n",
    "G_a = utils.relabel_nodes(G_a, maxT)\n",
    "\n",
    "G_b = to_networkx(b, to_undirected=False, node_attrs=[\"x\"], edge_attrs=[\"edge_attr\"])\n",
    "G_b = utils.relabel_nodes(G_b, maxT)\n",
    "\n",
    "all_nodes = explain.node_diff(G_a, G_b)\n",
    "all_edges = explain.edge_comp(G_a, G_b)\n",
    "all_nodes"
   ]
  },
  {
   "cell_type": "code",
   "execution_count": null,
   "id": "7f119f16",
   "metadata": {},
   "outputs": [],
   "source": [
    "vals, res = explain.viz_attrs(all_edges[1], margin=margin, anchor=anchor)\n",
    "for k, v in res.items():\n",
    "    print(k, v)\n",
    "sns.histplot(vals)"
   ]
  },
  {
   "cell_type": "code",
   "execution_count": null,
   "id": "a4346297",
   "metadata": {},
   "outputs": [],
   "source": [
    "vals, res = explain.viz_attrs(all_edges[2], margin=margin, anchor=anchor)\n",
    "for k, v in res.items():\n",
    "    print(k, v)\n",
    "\n",
    "sns.histplot(vals)"
   ]
  },
  {
   "cell_type": "code",
   "execution_count": null,
   "id": "55d82b1a",
   "metadata": {},
   "outputs": [],
   "source": [
    "import data\n",
    "\n",
    "json_dict = json.load(\n",
    "    open(\n",
    "        \"/home/carlos/Desktop/projects/diff-gnn/checkpoints/tag_0.ckpt.args.json\",\n",
    "        \"r\",\n",
    "    )\n",
    ")\n",
    "args = argparse.Namespace(**json_dict)"
   ]
  },
  {
   "cell_type": "code",
   "execution_count": 60,
   "id": "aaa40ad6",
   "metadata": {},
   "outputs": [
    {
     "data": {
      "text/plain": [
       "<module 'data' from '/home/carlos/Desktop/projects/diff-gnn/data.py'>"
      ]
     },
     "execution_count": 60,
     "metadata": {},
     "output_type": "execute_result"
    }
   ],
   "source": [
    "import importlib\n",
    "importlib.reload(data)"
   ]
  },
  {
   "cell_type": "code",
   "execution_count": 61,
   "id": "5f612659",
   "metadata": {},
   "outputs": [
    {
     "name": "stdout",
     "output_type": "stream",
     "text": [
      "Loading dataset...\n"
     ]
    },
    {
     "name": "stderr",
     "output_type": "stream",
     "text": [
      "100%|██████████| 1000/1000 [00:02<00:00, 494.65it/s]\n"
     ]
    }
   ],
   "source": [
    "data_source = data.DataSource(args)"
   ]
  },
  {
   "cell_type": "code",
   "execution_count": 62,
   "id": "c933aa1f",
   "metadata": {},
   "outputs": [],
   "source": [
    "batch = data_source.gen_batch(4096*4, train=True, par=True)"
   ]
  },
  {
   "cell_type": "code",
   "execution_count": 63,
   "id": "80fb6594",
   "metadata": {},
   "outputs": [],
   "source": [
    "batch = data_source.gen_batch(4096*4, train=True, par=False)"
   ]
  },
  {
   "cell_type": "code",
   "execution_count": null,
   "id": "5edd37e0",
   "metadata": {},
   "outputs": [],
   "source": []
  }
 ],
 "metadata": {
  "kernelspec": {
   "display_name": "gnn",
   "language": "python",
   "name": "python3"
  },
  "language_info": {
   "codemirror_mode": {
    "name": "ipython",
    "version": 3
   },
   "file_extension": ".py",
   "mimetype": "text/x-python",
   "name": "python",
   "nbconvert_exporter": "python",
   "pygments_lexer": "ipython3",
   "version": "3.11.4"
  }
 },
 "nbformat": 4,
 "nbformat_minor": 5
}
